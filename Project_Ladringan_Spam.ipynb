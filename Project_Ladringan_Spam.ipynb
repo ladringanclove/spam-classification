{
 "cells": [
  {
   "cell_type": "markdown",
   "id": "b514ac21",
   "metadata": {},
   "source": [
    "# Email Spam Classification Using NLP and ML\n",
    "Ladringan, Christine Love L. "
   ]
  },
  {
   "cell_type": "markdown",
   "id": "6cc51dd3",
   "metadata": {},
   "source": [
    "## Data Collection"
   ]
  },
  {
   "cell_type": "code",
   "execution_count": 1,
   "id": "119baa32",
   "metadata": {},
   "outputs": [],
   "source": [
    "import pandas as pd\n",
    "import numpy as np"
   ]
  },
  {
   "cell_type": "code",
   "execution_count": 2,
   "id": "1901aaac",
   "metadata": {},
   "outputs": [
    {
     "data": {
      "text/html": [
       "<div>\n",
       "<style scoped>\n",
       "    .dataframe tbody tr th:only-of-type {\n",
       "        vertical-align: middle;\n",
       "    }\n",
       "\n",
       "    .dataframe tbody tr th {\n",
       "        vertical-align: top;\n",
       "    }\n",
       "\n",
       "    .dataframe thead th {\n",
       "        text-align: right;\n",
       "    }\n",
       "</style>\n",
       "<table border=\"1\" class=\"dataframe\">\n",
       "  <thead>\n",
       "    <tr style=\"text-align: right;\">\n",
       "      <th></th>\n",
       "      <th>Label</th>\n",
       "      <th>Body</th>\n",
       "    </tr>\n",
       "  </thead>\n",
       "  <tbody>\n",
       "    <tr>\n",
       "      <th>0</th>\n",
       "      <td>1</td>\n",
       "      <td>\\nSave up to 70% on Life Insurance.\\nWhy Spend...</td>\n",
       "    </tr>\n",
       "    <tr>\n",
       "      <th>1</th>\n",
       "      <td>1</td>\n",
       "      <td>1) Fight The Risk of Cancer!\\nhttp://www.adcli...</td>\n",
       "    </tr>\n",
       "    <tr>\n",
       "      <th>2</th>\n",
       "      <td>1</td>\n",
       "      <td>1) Fight The Risk of Cancer!\\nhttp://www.adcli...</td>\n",
       "    </tr>\n",
       "    <tr>\n",
       "      <th>3</th>\n",
       "      <td>1</td>\n",
       "      <td>##############################################...</td>\n",
       "    </tr>\n",
       "    <tr>\n",
       "      <th>4</th>\n",
       "      <td>1</td>\n",
       "      <td>I thought you might like these:\\n1) Slim Down ...</td>\n",
       "    </tr>\n",
       "    <tr>\n",
       "      <th>...</th>\n",
       "      <td>...</td>\n",
       "      <td>...</td>\n",
       "    </tr>\n",
       "    <tr>\n",
       "      <th>14976</th>\n",
       "      <td>0</td>\n",
       "      <td>Subject: monday 22 nd oct\\n louise ,\\n do you ...</td>\n",
       "    </tr>\n",
       "    <tr>\n",
       "      <th>14977</th>\n",
       "      <td>0</td>\n",
       "      <td>Subject: missing bloomberg deals\\n stephanie -...</td>\n",
       "    </tr>\n",
       "    <tr>\n",
       "      <th>14978</th>\n",
       "      <td>0</td>\n",
       "      <td>Subject: eops salary survey questionnaire\\n we...</td>\n",
       "    </tr>\n",
       "    <tr>\n",
       "      <th>14979</th>\n",
       "      <td>0</td>\n",
       "      <td>Subject: q 3 comparison\\n hi louise ,\\n i have...</td>\n",
       "    </tr>\n",
       "    <tr>\n",
       "      <th>14980</th>\n",
       "      <td>0</td>\n",
       "      <td>Subject: confidential folder to safely pass in...</td>\n",
       "    </tr>\n",
       "  </tbody>\n",
       "</table>\n",
       "<p>14981 rows × 2 columns</p>\n",
       "</div>"
      ],
      "text/plain": [
       "       Label                                               Body\n",
       "0          1  \\nSave up to 70% on Life Insurance.\\nWhy Spend...\n",
       "1          1  1) Fight The Risk of Cancer!\\nhttp://www.adcli...\n",
       "2          1  1) Fight The Risk of Cancer!\\nhttp://www.adcli...\n",
       "3          1  ##############################################...\n",
       "4          1  I thought you might like these:\\n1) Slim Down ...\n",
       "...      ...                                                ...\n",
       "14976      0  Subject: monday 22 nd oct\\n louise ,\\n do you ...\n",
       "14977      0  Subject: missing bloomberg deals\\n stephanie -...\n",
       "14978      0  Subject: eops salary survey questionnaire\\n we...\n",
       "14979      0  Subject: q 3 comparison\\n hi louise ,\\n i have...\n",
       "14980      0  Subject: confidential folder to safely pass in...\n",
       "\n",
       "[14981 rows x 2 columns]"
      ]
     },
     "execution_count": 2,
     "metadata": {},
     "output_type": "execute_result"
    }
   ],
   "source": [
    "df_email = pd.read_csv('email_spam_train.csv')\n",
    "df_email = df_email[['Label', 'Body']]\n",
    "df_email"
   ]
  },
  {
   "cell_type": "code",
   "execution_count": 3,
   "id": "8b576b02",
   "metadata": {},
   "outputs": [],
   "source": [
    "df_email.columns = ['target', 'text']"
   ]
  },
  {
   "cell_type": "code",
   "execution_count": 4,
   "id": "4bbacedb",
   "metadata": {},
   "outputs": [
    {
     "data": {
      "text/html": [
       "<div>\n",
       "<style scoped>\n",
       "    .dataframe tbody tr th:only-of-type {\n",
       "        vertical-align: middle;\n",
       "    }\n",
       "\n",
       "    .dataframe tbody tr th {\n",
       "        vertical-align: top;\n",
       "    }\n",
       "\n",
       "    .dataframe thead th {\n",
       "        text-align: right;\n",
       "    }\n",
       "</style>\n",
       "<table border=\"1\" class=\"dataframe\">\n",
       "  <thead>\n",
       "    <tr style=\"text-align: right;\">\n",
       "      <th></th>\n",
       "      <th>target</th>\n",
       "      <th>text</th>\n",
       "    </tr>\n",
       "  </thead>\n",
       "  <tbody>\n",
       "    <tr>\n",
       "      <th>232</th>\n",
       "      <td>1</td>\n",
       "      <td>NaN</td>\n",
       "    </tr>\n",
       "  </tbody>\n",
       "</table>\n",
       "</div>"
      ],
      "text/plain": [
       "     target text\n",
       "232       1  NaN"
      ]
     },
     "execution_count": 4,
     "metadata": {},
     "output_type": "execute_result"
    }
   ],
   "source": [
    "df_email[df_email.isnull().any(axis=1)]"
   ]
  },
  {
   "cell_type": "code",
   "execution_count": 5,
   "id": "29159beb",
   "metadata": {},
   "outputs": [
    {
     "data": {
      "text/plain": [
       "target    0\n",
       "text      0\n",
       "dtype: int64"
      ]
     },
     "execution_count": 5,
     "metadata": {},
     "output_type": "execute_result"
    }
   ],
   "source": [
    "df_email = df_email.dropna()\n",
    "df_email.isnull().sum()"
   ]
  },
  {
   "cell_type": "code",
   "execution_count": 6,
   "id": "39a56101",
   "metadata": {},
   "outputs": [
    {
     "data": {
      "text/plain": [
       "0"
      ]
     },
     "execution_count": 6,
     "metadata": {},
     "output_type": "execute_result"
    }
   ],
   "source": [
    "df_email.duplicated().sum()"
   ]
  },
  {
   "cell_type": "markdown",
   "id": "1092446d",
   "metadata": {},
   "source": [
    "## Exploratory Data Analysis"
   ]
  },
  {
   "cell_type": "code",
   "execution_count": 7,
   "id": "b2716e1e",
   "metadata": {},
   "outputs": [
    {
     "data": {
      "text/plain": [
       "0    8842\n",
       "1    6138\n",
       "Name: target, dtype: int64"
      ]
     },
     "execution_count": 7,
     "metadata": {},
     "output_type": "execute_result"
    }
   ],
   "source": [
    "df_email['target'].value_counts()"
   ]
  },
  {
   "cell_type": "code",
   "execution_count": 8,
   "id": "01b8a9cc",
   "metadata": {
    "scrolled": false
   },
   "outputs": [
    {
     "data": {
      "image/png": "[encoded data removed]",
      "text/plain": [
       "<Figure size 640x480 with 1 Axes>"
      ]
     },
     "metadata": {},
     "output_type": "display_data"
    }
   ],
   "source": [
    "import matplotlib.pyplot as plt\n",
    "import seaborn as sns\n",
    "\n",
    "blue_palette = sns.color_palette(\"hls\")\n",
    "colors = [blue_palette[1], blue_palette[0]]\n",
    "plt.pie(df_email['target'].value_counts(), labels=['ham', 'spam'], autopct=\"%0.2f\", colors=colors)\n",
    "\n",
    "plt.show()"
   ]
  },
  {
   "cell_type": "code",
   "execution_count": 9,
   "id": "6198c153",
   "metadata": {},
   "outputs": [],
   "source": [
    "df_email = df_email.copy()"
   ]
  },
  {
   "cell_type": "code",
   "execution_count": 10,
   "id": "6b826f63",
   "metadata": {},
   "outputs": [],
   "source": [
    "import warnings\n",
    "\n",
    "warnings.filterwarnings(\"ignore\", category=FutureWarning)"
   ]
  },
  {
   "cell_type": "code",
   "execution_count": 11,
   "id": "addee1a9",
   "metadata": {},
   "outputs": [],
   "source": [
    "import nltk\n",
    "from nltk.tokenize import word_tokenize, sent_tokenize\n",
    "\n",
    "def count_text_features(text):\n",
    "    num_words = len(word_tokenize(text))\n",
    "    num_sentences = len(sent_tokenize(text))\n",
    "    num_characters = len(text)\n",
    "    \n",
    "    return num_words, num_sentences, num_characters\n",
    "\n",
    "df_email[['num_words', 'num_sentences', 'num_characters']] = df_email['text'].apply(count_text_features).apply(pd.Series)"
   ]
  },
  {
   "cell_type": "code",
   "execution_count": 12,
   "id": "65f67a12",
   "metadata": {},
   "outputs": [
    {
     "data": {
      "text/html": [
       "<div>\n",
       "<style scoped>\n",
       "    .dataframe tbody tr th:only-of-type {\n",
       "        vertical-align: middle;\n",
       "    }\n",
       "\n",
       "    .dataframe tbody tr th {\n",
       "        vertical-align: top;\n",
       "    }\n",
       "\n",
       "    .dataframe thead th {\n",
       "        text-align: right;\n",
       "    }\n",
       "</style>\n",
       "<table border=\"1\" class=\"dataframe\">\n",
       "  <thead>\n",
       "    <tr style=\"text-align: right;\">\n",
       "      <th></th>\n",
       "      <th>target</th>\n",
       "      <th>text</th>\n",
       "      <th>num_words</th>\n",
       "      <th>num_sentences</th>\n",
       "      <th>num_characters</th>\n",
       "    </tr>\n",
       "  </thead>\n",
       "  <tbody>\n",
       "    <tr>\n",
       "      <th>0</th>\n",
       "      <td>1</td>\n",
       "      <td>\\nSave up to 70% on Life Insurance.\\nWhy Spend...</td>\n",
       "      <td>191</td>\n",
       "      <td>12</td>\n",
       "      <td>1111</td>\n",
       "    </tr>\n",
       "    <tr>\n",
       "      <th>1</th>\n",
       "      <td>1</td>\n",
       "      <td>1) Fight The Risk of Cancer!\\nhttp://www.adcli...</td>\n",
       "      <td>139</td>\n",
       "      <td>5</td>\n",
       "      <td>753</td>\n",
       "    </tr>\n",
       "    <tr>\n",
       "      <th>2</th>\n",
       "      <td>1</td>\n",
       "      <td>1) Fight The Risk of Cancer!\\nhttp://www.adcli...</td>\n",
       "      <td>113</td>\n",
       "      <td>4</td>\n",
       "      <td>610</td>\n",
       "    </tr>\n",
       "    <tr>\n",
       "      <th>3</th>\n",
       "      <td>1</td>\n",
       "      <td>##############################################...</td>\n",
       "      <td>690</td>\n",
       "      <td>35</td>\n",
       "      <td>2863</td>\n",
       "    </tr>\n",
       "    <tr>\n",
       "      <th>4</th>\n",
       "      <td>1</td>\n",
       "      <td>I thought you might like these:\\n1) Slim Down ...</td>\n",
       "      <td>108</td>\n",
       "      <td>4</td>\n",
       "      <td>641</td>\n",
       "    </tr>\n",
       "    <tr>\n",
       "      <th>...</th>\n",
       "      <td>...</td>\n",
       "      <td>...</td>\n",
       "      <td>...</td>\n",
       "      <td>...</td>\n",
       "      <td>...</td>\n",
       "    </tr>\n",
       "    <tr>\n",
       "      <th>14976</th>\n",
       "      <td>0</td>\n",
       "      <td>Subject: monday 22 nd oct\\n louise ,\\n do you ...</td>\n",
       "      <td>39</td>\n",
       "      <td>2</td>\n",
       "      <td>154</td>\n",
       "    </tr>\n",
       "    <tr>\n",
       "      <th>14977</th>\n",
       "      <td>0</td>\n",
       "      <td>Subject: missing bloomberg deals\\n stephanie -...</td>\n",
       "      <td>1806</td>\n",
       "      <td>35</td>\n",
       "      <td>7864</td>\n",
       "    </tr>\n",
       "    <tr>\n",
       "      <th>14978</th>\n",
       "      <td>0</td>\n",
       "      <td>Subject: eops salary survey questionnaire\\n we...</td>\n",
       "      <td>330</td>\n",
       "      <td>7</td>\n",
       "      <td>1343</td>\n",
       "    </tr>\n",
       "    <tr>\n",
       "      <th>14979</th>\n",
       "      <td>0</td>\n",
       "      <td>Subject: q 3 comparison\\n hi louise ,\\n i have...</td>\n",
       "      <td>68</td>\n",
       "      <td>5</td>\n",
       "      <td>279</td>\n",
       "    </tr>\n",
       "    <tr>\n",
       "      <th>14980</th>\n",
       "      <td>0</td>\n",
       "      <td>Subject: confidential folder to safely pass in...</td>\n",
       "      <td>307</td>\n",
       "      <td>12</td>\n",
       "      <td>1654</td>\n",
       "    </tr>\n",
       "  </tbody>\n",
       "</table>\n",
       "<p>14980 rows × 5 columns</p>\n",
       "</div>"
      ],
      "text/plain": [
       "       target                                               text  num_words  \\\n",
       "0           1  \\nSave up to 70% on Life Insurance.\\nWhy Spend...        191   \n",
       "1           1  1) Fight The Risk of Cancer!\\nhttp://www.adcli...        139   \n",
       "2           1  1) Fight The Risk of Cancer!\\nhttp://www.adcli...        113   \n",
       "3           1  ##############################################...        690   \n",
       "4           1  I thought you might like these:\\n1) Slim Down ...        108   \n",
       "...       ...                                                ...        ...   \n",
       "14976       0  Subject: monday 22 nd oct\\n louise ,\\n do you ...         39   \n",
       "14977       0  Subject: missing bloomberg deals\\n stephanie -...       1806   \n",
       "14978       0  Subject: eops salary survey questionnaire\\n we...        330   \n",
       "14979       0  Subject: q 3 comparison\\n hi louise ,\\n i have...         68   \n",
       "14980       0  Subject: confidential folder to safely pass in...        307   \n",
       "\n",
       "       num_sentences  num_characters  \n",
       "0                 12            1111  \n",
       "1                  5             753  \n",
       "2                  4             610  \n",
       "3                 35            2863  \n",
       "4                  4             641  \n",
       "...              ...             ...  \n",
       "14976              2             154  \n",
       "14977             35            7864  \n",
       "14978              7            1343  \n",
       "14979              5             279  \n",
       "14980             12            1654  \n",
       "\n",
       "[14980 rows x 5 columns]"
      ]
     },
     "execution_count": 12,
     "metadata": {},
     "output_type": "execute_result"
    }
   ],
   "source": [
    "df_email"
   ]
  },
  {
   "cell_type": "code",
   "execution_count": 13,
   "id": "5451737f",
   "metadata": {
    "scrolled": true
   },
   "outputs": [
    {
     "data": {
      "text/html": [
       "<div>\n",
       "<style scoped>\n",
       "    .dataframe tbody tr th:only-of-type {\n",
       "        vertical-align: middle;\n",
       "    }\n",
       "\n",
       "    .dataframe tbody tr th {\n",
       "        vertical-align: top;\n",
       "    }\n",
       "\n",
       "    .dataframe thead th {\n",
       "        text-align: right;\n",
       "    }\n",
       "</style>\n",
       "<table border=\"1\" class=\"dataframe\">\n",
       "  <thead>\n",
       "    <tr style=\"text-align: right;\">\n",
       "      <th></th>\n",
       "      <th>num_characters</th>\n",
       "      <th>num_words</th>\n",
       "      <th>num_sentences</th>\n",
       "    </tr>\n",
       "  </thead>\n",
       "  <tbody>\n",
       "    <tr>\n",
       "      <th>count</th>\n",
       "      <td>14980.000000</td>\n",
       "      <td>14980.000000</td>\n",
       "      <td>14980.000000</td>\n",
       "    </tr>\n",
       "    <tr>\n",
       "      <th>mean</th>\n",
       "      <td>1679.921028</td>\n",
       "      <td>330.484312</td>\n",
       "      <td>14.215020</td>\n",
       "    </tr>\n",
       "    <tr>\n",
       "      <th>std</th>\n",
       "      <td>4432.597914</td>\n",
       "      <td>786.383305</td>\n",
       "      <td>37.269184</td>\n",
       "    </tr>\n",
       "    <tr>\n",
       "      <th>min</th>\n",
       "      <td>1.000000</td>\n",
       "      <td>0.000000</td>\n",
       "      <td>0.000000</td>\n",
       "    </tr>\n",
       "    <tr>\n",
       "      <th>25%</th>\n",
       "      <td>412.000000</td>\n",
       "      <td>82.000000</td>\n",
       "      <td>4.000000</td>\n",
       "    </tr>\n",
       "    <tr>\n",
       "      <th>50%</th>\n",
       "      <td>829.000000</td>\n",
       "      <td>169.000000</td>\n",
       "      <td>7.000000</td>\n",
       "    </tr>\n",
       "    <tr>\n",
       "      <th>75%</th>\n",
       "      <td>1649.000000</td>\n",
       "      <td>334.000000</td>\n",
       "      <td>14.000000</td>\n",
       "    </tr>\n",
       "    <tr>\n",
       "      <th>max</th>\n",
       "      <td>194978.000000</td>\n",
       "      <td>23345.000000</td>\n",
       "      <td>2073.000000</td>\n",
       "    </tr>\n",
       "  </tbody>\n",
       "</table>\n",
       "</div>"
      ],
      "text/plain": [
       "       num_characters     num_words  num_sentences\n",
       "count    14980.000000  14980.000000   14980.000000\n",
       "mean      1679.921028    330.484312      14.215020\n",
       "std       4432.597914    786.383305      37.269184\n",
       "min          1.000000      0.000000       0.000000\n",
       "25%        412.000000     82.000000       4.000000\n",
       "50%        829.000000    169.000000       7.000000\n",
       "75%       1649.000000    334.000000      14.000000\n",
       "max     194978.000000  23345.000000    2073.000000"
      ]
     },
     "execution_count": 13,
     "metadata": {},
     "output_type": "execute_result"
    }
   ],
   "source": [
    "df_email[['num_characters','num_words','num_sentences']].describe()"
   ]
  },
  {
   "cell_type": "code",
   "execution_count": 14,
   "id": "769b59e6",
   "metadata": {},
   "outputs": [
    {
     "data": {
      "text/html": [
       "<div>\n",
       "<style scoped>\n",
       "    .dataframe tbody tr th:only-of-type {\n",
       "        vertical-align: middle;\n",
       "    }\n",
       "\n",
       "    .dataframe tbody tr th {\n",
       "        vertical-align: top;\n",
       "    }\n",
       "\n",
       "    .dataframe thead th {\n",
       "        text-align: right;\n",
       "    }\n",
       "</style>\n",
       "<table border=\"1\" class=\"dataframe\">\n",
       "  <thead>\n",
       "    <tr style=\"text-align: right;\">\n",
       "      <th></th>\n",
       "      <th>num_characters</th>\n",
       "      <th>num_words</th>\n",
       "      <th>num_sentences</th>\n",
       "    </tr>\n",
       "  </thead>\n",
       "  <tbody>\n",
       "    <tr>\n",
       "      <th>count</th>\n",
       "      <td>6138.000000</td>\n",
       "      <td>6138.000000</td>\n",
       "      <td>6138.000000</td>\n",
       "    </tr>\n",
       "    <tr>\n",
       "      <th>mean</th>\n",
       "      <td>1579.347344</td>\n",
       "      <td>301.659661</td>\n",
       "      <td>15.176442</td>\n",
       "    </tr>\n",
       "    <tr>\n",
       "      <th>std</th>\n",
       "      <td>3280.228668</td>\n",
       "      <td>546.284296</td>\n",
       "      <td>35.456358</td>\n",
       "    </tr>\n",
       "    <tr>\n",
       "      <th>min</th>\n",
       "      <td>1.000000</td>\n",
       "      <td>0.000000</td>\n",
       "      <td>0.000000</td>\n",
       "    </tr>\n",
       "    <tr>\n",
       "      <th>25%</th>\n",
       "      <td>405.250000</td>\n",
       "      <td>80.000000</td>\n",
       "      <td>5.000000</td>\n",
       "    </tr>\n",
       "    <tr>\n",
       "      <th>50%</th>\n",
       "      <td>757.500000</td>\n",
       "      <td>152.000000</td>\n",
       "      <td>9.000000</td>\n",
       "    </tr>\n",
       "    <tr>\n",
       "      <th>75%</th>\n",
       "      <td>1570.000000</td>\n",
       "      <td>303.000000</td>\n",
       "      <td>16.000000</td>\n",
       "    </tr>\n",
       "    <tr>\n",
       "      <th>max</th>\n",
       "      <td>129635.000000</td>\n",
       "      <td>13288.000000</td>\n",
       "      <td>2073.000000</td>\n",
       "    </tr>\n",
       "  </tbody>\n",
       "</table>\n",
       "</div>"
      ],
      "text/plain": [
       "       num_characters     num_words  num_sentences\n",
       "count     6138.000000   6138.000000    6138.000000\n",
       "mean      1579.347344    301.659661      15.176442\n",
       "std       3280.228668    546.284296      35.456358\n",
       "min          1.000000      0.000000       0.000000\n",
       "25%        405.250000     80.000000       5.000000\n",
       "50%        757.500000    152.000000       9.000000\n",
       "75%       1570.000000    303.000000      16.000000\n",
       "max     129635.000000  13288.000000    2073.000000"
      ]
     },
     "execution_count": 14,
     "metadata": {},
     "output_type": "execute_result"
    }
   ],
   "source": [
    "df_email[df_email['target'] == 1][['num_characters','num_words','num_sentences']].describe()"
   ]
  },
  {
   "cell_type": "code",
   "execution_count": 15,
   "id": "b9601470",
   "metadata": {},
   "outputs": [
    {
     "data": {
      "image/png": "[encoded data removed]",
      "text/plain": [
       "<Figure size 1200x600 with 1 Axes>"
      ]
     },
     "metadata": {},
     "output_type": "display_data"
    }
   ],
   "source": [
    "plt.figure(figsize=(12, 6))\n",
    "\n",
    "sns.set_style(\"white\")\n",
    "sns.histplot(df_email[df_email['target'] == 0]['num_characters'], color=blue_palette[1], label='ham')\n",
    "sns.histplot(df_email[df_email['target'] == 1]['num_characters'], color=blue_palette[0], label='spam')\n",
    "\n",
    "plt.xlim(0, 20000)\n",
    "sns.despine()\n",
    "\n",
    "plt.legend()\n",
    "plt.show()"
   ]
  },
  {
   "cell_type": "code",
   "execution_count": 16,
   "id": "14100e94",
   "metadata": {},
   "outputs": [
    {
     "data": {
      "image/png": "[encoded data removed]",
      "text/plain": [
       "<Figure size 1200x600 with 1 Axes>"
      ]
     },
     "metadata": {},
     "output_type": "display_data"
    }
   ],
   "source": [
    "plt.figure(figsize=(12, 6))\n",
    "\n",
    "sns.set_style(\"white\")\n",
    "sns.histplot(df_email[df_email['target'] == 0]['num_words'], color=blue_palette[1], label='ham')\n",
    "sns.histplot(df_email[df_email['target'] == 1]['num_words'], color=blue_palette[0], label='spam')\n",
    "\n",
    "plt.xlim(0, 5000)\n",
    "sns.despine()\n",
    "\n",
    "plt.legend()\n",
    "plt.show()"
   ]
  },
  {
   "cell_type": "code",
   "execution_count": 17,
   "id": "a97921fa",
   "metadata": {
    "scrolled": false
   },
   "outputs": [
    {
     "data": {
      "image/png": "[encoded data removed]",
      "text/plain": [
       "<Figure size 807.75x750 with 12 Axes>"
      ]
     },
     "metadata": {},
     "output_type": "display_data"
    }
   ],
   "source": [
    "import seaborn as sns\n",
    "import matplotlib.pyplot as plt\n",
    "\n",
    "palette = {0: blue_palette[1], 1: blue_palette[0]}\n",
    "sns.set_style(\"white\")\n",
    "sns.pairplot(df_email, hue='target', palette=palette,  plot_kws={'edgecolor': 'w'})\n",
    "\n",
    "plt.show()"
   ]
  },
  {
   "cell_type": "markdown",
   "id": "50363861",
   "metadata": {},
   "source": [
    "## Data Preprocessing"
   ]
  },
  {
   "cell_type": "code",
   "execution_count": 18,
   "id": "9eb6e8f8",
   "metadata": {
    "scrolled": true
   },
   "outputs": [
    {
     "name": "stderr",
     "output_type": "stream",
     "text": [
      "[nltk_data] Downloading package stopwords to\n",
      "[nltk_data]     /Users/christineloveladringan/nltk_data...\n",
      "[nltk_data]   Package stopwords is already up-to-date!\n"
     ]
    },
    {
     "data": {
      "text/plain": [
       "True"
      ]
     },
     "execution_count": 18,
     "metadata": {},
     "output_type": "execute_result"
    }
   ],
   "source": [
    "import re\n",
    "import nltk\n",
    "from nltk.corpus import stopwords\n",
    "from nltk.stem import SnowballStemmer\n",
    "\n",
    "nltk.download('stopwords')"
   ]
  },
  {
   "cell_type": "code",
   "execution_count": 19,
   "id": "7e2fc033",
   "metadata": {},
   "outputs": [],
   "source": [
    "def clean_email_body(email):\n",
    "    # Convert to lowercase\n",
    "    email = email.lower()\n",
    "    \n",
    "    # Remove subject heaaders\n",
    "    email = re.sub(r'subject:.*\\n', '', email)\n",
    "\n",
    "    # Replace numbers with 'number'\n",
    "    email = re.sub(r'\\b\\d+(\\.\\d+)?\\b', 'number', email)\n",
    "    \n",
    "    # Replace dollar signs with 'dollar' \n",
    "    email = re.sub('[$]+', 'dollar', email)\n",
    "    \n",
    "    # Replace URLs with 'httpaddr'\n",
    "    email = re.sub('(http|https)://[^\\s]*', 'httpaddr', email)\n",
    "    \n",
    "    # Replace email addresses with 'email'\n",
    "    email = re.sub('[^\\s]+@[^\\s]+', 'emailaddr', email)\n",
    "    \n",
    "    # Remove stop words\n",
    "    stop_words = set(stopwords.words('english'))\n",
    "    email = ' '.join(word for word in email.split() if word not in stop_words)\n",
    "    \n",
    "    # Perform word stemming using Porter stemmer\n",
    "    stemmer = SnowballStemmer('english')\n",
    "    email = ' '.join(stemmer.stem(word) for word in email.split())\n",
    "      \n",
    "    # Remove non-words and punctuation\n",
    "    email = re.sub(r'\\W', ' ', email)\n",
    "    \n",
    "    # Trim white spaces to a single space character\n",
    "    email = re.sub(r'\\s+', ' ', email).strip()\n",
    "    \n",
    "    return email"
   ]
  },
  {
   "cell_type": "code",
   "execution_count": 20,
   "id": "eba5f5a3",
   "metadata": {},
   "outputs": [],
   "source": [
    "df_email['text_cleaned'] = df_email['text'].apply(clean_email_body)"
   ]
  },
  {
   "cell_type": "code",
   "execution_count": 21,
   "id": "3789a8b6",
   "metadata": {
    "scrolled": false
   },
   "outputs": [
    {
     "data": {
      "text/html": [
       "<div>\n",
       "<style scoped>\n",
       "    .dataframe tbody tr th:only-of-type {\n",
       "        vertical-align: middle;\n",
       "    }\n",
       "\n",
       "    .dataframe tbody tr th {\n",
       "        vertical-align: top;\n",
       "    }\n",
       "\n",
       "    .dataframe thead th {\n",
       "        text-align: right;\n",
       "    }\n",
       "</style>\n",
       "<table border=\"1\" class=\"dataframe\">\n",
       "  <thead>\n",
       "    <tr style=\"text-align: right;\">\n",
       "      <th></th>\n",
       "      <th>target</th>\n",
       "      <th>text</th>\n",
       "      <th>num_words</th>\n",
       "      <th>num_sentences</th>\n",
       "      <th>num_characters</th>\n",
       "      <th>text_cleaned</th>\n",
       "    </tr>\n",
       "  </thead>\n",
       "  <tbody>\n",
       "    <tr>\n",
       "      <th>0</th>\n",
       "      <td>1</td>\n",
       "      <td>\\nSave up to 70% on Life Insurance.\\nWhy Spend...</td>\n",
       "      <td>191</td>\n",
       "      <td>12</td>\n",
       "      <td>1111</td>\n",
       "      <td>save number life insurance spend to lif quot s...</td>\n",
       "    </tr>\n",
       "    <tr>\n",
       "      <th>1</th>\n",
       "      <td>1</td>\n",
       "      <td>1) Fight The Risk of Cancer!\\nhttp://www.adcli...</td>\n",
       "      <td>139</td>\n",
       "      <td>5</td>\n",
       "      <td>753</td>\n",
       "      <td>number fight risk cancer httpaddr slim guarant...</td>\n",
       "    </tr>\n",
       "    <tr>\n",
       "      <th>2</th>\n",
       "      <td>1</td>\n",
       "      <td>1) Fight The Risk of Cancer!\\nhttp://www.adcli...</td>\n",
       "      <td>113</td>\n",
       "      <td>4</td>\n",
       "      <td>610</td>\n",
       "      <td>number fight risk cancer httpaddr slim guarant...</td>\n",
       "    </tr>\n",
       "    <tr>\n",
       "      <th>3</th>\n",
       "      <td>1</td>\n",
       "      <td>##############################################...</td>\n",
       "      <td>690</td>\n",
       "      <td>35</td>\n",
       "      <td>2863</td>\n",
       "      <td>adult club offer free membership instant acces...</td>\n",
       "    </tr>\n",
       "    <tr>\n",
       "      <th>4</th>\n",
       "      <td>1</td>\n",
       "      <td>I thought you might like these:\\n1) Slim Down ...</td>\n",
       "      <td>108</td>\n",
       "      <td>4</td>\n",
       "      <td>641</td>\n",
       "      <td>thought might like these number slim guarante ...</td>\n",
       "    </tr>\n",
       "    <tr>\n",
       "      <th>...</th>\n",
       "      <td>...</td>\n",
       "      <td>...</td>\n",
       "      <td>...</td>\n",
       "      <td>...</td>\n",
       "      <td>...</td>\n",
       "      <td>...</td>\n",
       "    </tr>\n",
       "    <tr>\n",
       "      <th>14976</th>\n",
       "      <td>0</td>\n",
       "      <td>Subject: monday 22 nd oct\\n louise ,\\n do you ...</td>\n",
       "      <td>39</td>\n",
       "      <td>2</td>\n",
       "      <td>154</td>\n",
       "      <td>louis half hour free diari number number see w...</td>\n",
       "    </tr>\n",
       "    <tr>\n",
       "      <th>14977</th>\n",
       "      <td>0</td>\n",
       "      <td>Subject: missing bloomberg deals\\n stephanie -...</td>\n",
       "      <td>1806</td>\n",
       "      <td>35</td>\n",
       "      <td>7864</td>\n",
       "      <td>stephani believ found trade first one alreadi ...</td>\n",
       "    </tr>\n",
       "    <tr>\n",
       "      <th>14978</th>\n",
       "      <td>0</td>\n",
       "      <td>Subject: eops salary survey questionnaire\\n we...</td>\n",
       "      <td>330</td>\n",
       "      <td>7</td>\n",
       "      <td>1343</td>\n",
       "      <td>need establish deadlin friday march number th ...</td>\n",
       "    </tr>\n",
       "    <tr>\n",
       "      <th>14979</th>\n",
       "      <td>0</td>\n",
       "      <td>Subject: q 3 comparison\\n hi louise ,\\n i have...</td>\n",
       "      <td>68</td>\n",
       "      <td>5</td>\n",
       "      <td>279</td>\n",
       "      <td>hi louis comparison first two week q number st...</td>\n",
       "    </tr>\n",
       "    <tr>\n",
       "      <th>14980</th>\n",
       "      <td>0</td>\n",
       "      <td>Subject: confidential folder to safely pass in...</td>\n",
       "      <td>307</td>\n",
       "      <td>12</td>\n",
       "      <td>1654</td>\n",
       "      <td>becom increas concern confidenti inform dpr po...</td>\n",
       "    </tr>\n",
       "  </tbody>\n",
       "</table>\n",
       "<p>14980 rows × 6 columns</p>\n",
       "</div>"
      ],
      "text/plain": [
       "       target                                               text  num_words  \\\n",
       "0           1  \\nSave up to 70% on Life Insurance.\\nWhy Spend...        191   \n",
       "1           1  1) Fight The Risk of Cancer!\\nhttp://www.adcli...        139   \n",
       "2           1  1) Fight The Risk of Cancer!\\nhttp://www.adcli...        113   \n",
       "3           1  ##############################################...        690   \n",
       "4           1  I thought you might like these:\\n1) Slim Down ...        108   \n",
       "...       ...                                                ...        ...   \n",
       "14976       0  Subject: monday 22 nd oct\\n louise ,\\n do you ...         39   \n",
       "14977       0  Subject: missing bloomberg deals\\n stephanie -...       1806   \n",
       "14978       0  Subject: eops salary survey questionnaire\\n we...        330   \n",
       "14979       0  Subject: q 3 comparison\\n hi louise ,\\n i have...         68   \n",
       "14980       0  Subject: confidential folder to safely pass in...        307   \n",
       "\n",
       "       num_sentences  num_characters  \\\n",
       "0                 12            1111   \n",
       "1                  5             753   \n",
       "2                  4             610   \n",
       "3                 35            2863   \n",
       "4                  4             641   \n",
       "...              ...             ...   \n",
       "14976              2             154   \n",
       "14977             35            7864   \n",
       "14978              7            1343   \n",
       "14979              5             279   \n",
       "14980             12            1654   \n",
       "\n",
       "                                            text_cleaned  \n",
       "0      save number life insurance spend to lif quot s...  \n",
       "1      number fight risk cancer httpaddr slim guarant...  \n",
       "2      number fight risk cancer httpaddr slim guarant...  \n",
       "3      adult club offer free membership instant acces...  \n",
       "4      thought might like these number slim guarante ...  \n",
       "...                                                  ...  \n",
       "14976  louis half hour free diari number number see w...  \n",
       "14977  stephani believ found trade first one alreadi ...  \n",
       "14978  need establish deadlin friday march number th ...  \n",
       "14979  hi louis comparison first two week q number st...  \n",
       "14980  becom increas concern confidenti inform dpr po...  \n",
       "\n",
       "[14980 rows x 6 columns]"
      ]
     },
     "execution_count": 21,
     "metadata": {},
     "output_type": "execute_result"
    }
   ],
   "source": [
    "df_email"
   ]
  },
  {
   "cell_type": "markdown",
   "id": "233cc6d3",
   "metadata": {},
   "source": [
    "## Feature Engineering"
   ]
  },
  {
   "cell_type": "code",
   "execution_count": 22,
   "id": "bf80742e",
   "metadata": {},
   "outputs": [],
   "source": [
    "import re\n",
    "\n",
    "def count_pattern_occurrences(email, pattern):\n",
    "    occurrences = re.findall(pattern, email)\n",
    "    return len(occurrences)\n",
    "\n",
    "df_email['num_httpaddr'] = df_email['text_cleaned'].apply(lambda x: count_pattern_occurrences(x, 'httpaddr'))\n",
    "df_email['num_emailaddr'] = df_email['text_cleaned'].apply(lambda x: count_pattern_occurrences(x, 'emailaddr'))\n",
    "df_email['num_number'] = df_email['text_cleaned'].apply(lambda x: count_pattern_occurrences(x, 'number'))\n",
    "df_email['num_dollar'] = df_email['text_cleaned'].apply(lambda x: count_pattern_occurrences(x, 'dollar'))"
   ]
  },
  {
   "cell_type": "code",
   "execution_count": 23,
   "id": "f89637e7",
   "metadata": {},
   "outputs": [],
   "source": [
    "def count_punct(text: str):\n",
    "    return len(re.findall('[^\\w\\s]', text))\n",
    "\n",
    "df_email['num_punct'] = df_email['text'].apply(count_punct)"
   ]
  },
  {
   "cell_type": "code",
   "execution_count": 24,
   "id": "49e5df97",
   "metadata": {
    "scrolled": false
   },
   "outputs": [
    {
     "data": {
      "text/html": [
       "<div>\n",
       "<style scoped>\n",
       "    .dataframe tbody tr th:only-of-type {\n",
       "        vertical-align: middle;\n",
       "    }\n",
       "\n",
       "    .dataframe tbody tr th {\n",
       "        vertical-align: top;\n",
       "    }\n",
       "\n",
       "    .dataframe thead th {\n",
       "        text-align: right;\n",
       "    }\n",
       "</style>\n",
       "<table border=\"1\" class=\"dataframe\">\n",
       "  <thead>\n",
       "    <tr style=\"text-align: right;\">\n",
       "      <th></th>\n",
       "      <th>target</th>\n",
       "      <th>text</th>\n",
       "      <th>num_words</th>\n",
       "      <th>num_sentences</th>\n",
       "      <th>num_characters</th>\n",
       "      <th>text_cleaned</th>\n",
       "      <th>num_httpaddr</th>\n",
       "      <th>num_emailaddr</th>\n",
       "      <th>num_number</th>\n",
       "      <th>num_dollar</th>\n",
       "      <th>num_punct</th>\n",
       "    </tr>\n",
       "  </thead>\n",
       "  <tbody>\n",
       "    <tr>\n",
       "      <th>0</th>\n",
       "      <td>1</td>\n",
       "      <td>\\nSave up to 70% on Life Insurance.\\nWhy Spend...</td>\n",
       "      <td>191</td>\n",
       "      <td>12</td>\n",
       "      <td>1111</td>\n",
       "      <td>save number life insurance spend to lif quot s...</td>\n",
       "      <td>0</td>\n",
       "      <td>0</td>\n",
       "      <td>3</td>\n",
       "      <td>1</td>\n",
       "      <td>24</td>\n",
       "    </tr>\n",
       "    <tr>\n",
       "      <th>1</th>\n",
       "      <td>1</td>\n",
       "      <td>1) Fight The Risk of Cancer!\\nhttp://www.adcli...</td>\n",
       "      <td>139</td>\n",
       "      <td>5</td>\n",
       "      <td>753</td>\n",
       "      <td>number fight risk cancer httpaddr slim guarant...</td>\n",
       "      <td>7</td>\n",
       "      <td>2</td>\n",
       "      <td>3</td>\n",
       "      <td>0</td>\n",
       "      <td>100</td>\n",
       "    </tr>\n",
       "    <tr>\n",
       "      <th>2</th>\n",
       "      <td>1</td>\n",
       "      <td>1) Fight The Risk of Cancer!\\nhttp://www.adcli...</td>\n",
       "      <td>113</td>\n",
       "      <td>4</td>\n",
       "      <td>610</td>\n",
       "      <td>number fight risk cancer httpaddr slim guarant...</td>\n",
       "      <td>6</td>\n",
       "      <td>0</td>\n",
       "      <td>3</td>\n",
       "      <td>0</td>\n",
       "      <td>81</td>\n",
       "    </tr>\n",
       "    <tr>\n",
       "      <th>3</th>\n",
       "      <td>1</td>\n",
       "      <td>##############################################...</td>\n",
       "      <td>690</td>\n",
       "      <td>35</td>\n",
       "      <td>2863</td>\n",
       "      <td>adult club offer free membership instant acces...</td>\n",
       "      <td>6</td>\n",
       "      <td>1</td>\n",
       "      <td>15</td>\n",
       "      <td>1</td>\n",
       "      <td>448</td>\n",
       "    </tr>\n",
       "    <tr>\n",
       "      <th>4</th>\n",
       "      <td>1</td>\n",
       "      <td>I thought you might like these:\\n1) Slim Down ...</td>\n",
       "      <td>108</td>\n",
       "      <td>4</td>\n",
       "      <td>641</td>\n",
       "      <td>thought might like these number slim guarante ...</td>\n",
       "      <td>5</td>\n",
       "      <td>2</td>\n",
       "      <td>4</td>\n",
       "      <td>0</td>\n",
       "      <td>75</td>\n",
       "    </tr>\n",
       "    <tr>\n",
       "      <th>...</th>\n",
       "      <td>...</td>\n",
       "      <td>...</td>\n",
       "      <td>...</td>\n",
       "      <td>...</td>\n",
       "      <td>...</td>\n",
       "      <td>...</td>\n",
       "      <td>...</td>\n",
       "      <td>...</td>\n",
       "      <td>...</td>\n",
       "      <td>...</td>\n",
       "      <td>...</td>\n",
       "    </tr>\n",
       "    <tr>\n",
       "      <th>14976</th>\n",
       "      <td>0</td>\n",
       "      <td>Subject: monday 22 nd oct\\n louise ,\\n do you ...</td>\n",
       "      <td>39</td>\n",
       "      <td>2</td>\n",
       "      <td>154</td>\n",
       "      <td>louis half hour free diari number number see w...</td>\n",
       "      <td>0</td>\n",
       "      <td>0</td>\n",
       "      <td>2</td>\n",
       "      <td>0</td>\n",
       "      <td>6</td>\n",
       "    </tr>\n",
       "    <tr>\n",
       "      <th>14977</th>\n",
       "      <td>0</td>\n",
       "      <td>Subject: missing bloomberg deals\\n stephanie -...</td>\n",
       "      <td>1806</td>\n",
       "      <td>35</td>\n",
       "      <td>7864</td>\n",
       "      <td>stephani believ found trade first one alreadi ...</td>\n",
       "      <td>0</td>\n",
       "      <td>0</td>\n",
       "      <td>249</td>\n",
       "      <td>5</td>\n",
       "      <td>585</td>\n",
       "    </tr>\n",
       "    <tr>\n",
       "      <th>14978</th>\n",
       "      <td>0</td>\n",
       "      <td>Subject: eops salary survey questionnaire\\n we...</td>\n",
       "      <td>330</td>\n",
       "      <td>7</td>\n",
       "      <td>1343</td>\n",
       "      <td>need establish deadlin friday march number th ...</td>\n",
       "      <td>0</td>\n",
       "      <td>0</td>\n",
       "      <td>11</td>\n",
       "      <td>0</td>\n",
       "      <td>127</td>\n",
       "    </tr>\n",
       "    <tr>\n",
       "      <th>14979</th>\n",
       "      <td>0</td>\n",
       "      <td>Subject: q 3 comparison\\n hi louise ,\\n i have...</td>\n",
       "      <td>68</td>\n",
       "      <td>5</td>\n",
       "      <td>279</td>\n",
       "      <td>hi louis comparison first two week q number st...</td>\n",
       "      <td>0</td>\n",
       "      <td>0</td>\n",
       "      <td>2</td>\n",
       "      <td>0</td>\n",
       "      <td>11</td>\n",
       "    </tr>\n",
       "    <tr>\n",
       "      <th>14980</th>\n",
       "      <td>0</td>\n",
       "      <td>Subject: confidential folder to safely pass in...</td>\n",
       "      <td>307</td>\n",
       "      <td>12</td>\n",
       "      <td>1654</td>\n",
       "      <td>becom increas concern confidenti inform dpr po...</td>\n",
       "      <td>0</td>\n",
       "      <td>0</td>\n",
       "      <td>0</td>\n",
       "      <td>0</td>\n",
       "      <td>43</td>\n",
       "    </tr>\n",
       "  </tbody>\n",
       "</table>\n",
       "<p>14980 rows × 11 columns</p>\n",
       "</div>"
      ],
      "text/plain": [
       "       target                                               text  num_words  \\\n",
       "0           1  \\nSave up to 70% on Life Insurance.\\nWhy Spend...        191   \n",
       "1           1  1) Fight The Risk of Cancer!\\nhttp://www.adcli...        139   \n",
       "2           1  1) Fight The Risk of Cancer!\\nhttp://www.adcli...        113   \n",
       "3           1  ##############################################...        690   \n",
       "4           1  I thought you might like these:\\n1) Slim Down ...        108   \n",
       "...       ...                                                ...        ...   \n",
       "14976       0  Subject: monday 22 nd oct\\n louise ,\\n do you ...         39   \n",
       "14977       0  Subject: missing bloomberg deals\\n stephanie -...       1806   \n",
       "14978       0  Subject: eops salary survey questionnaire\\n we...        330   \n",
       "14979       0  Subject: q 3 comparison\\n hi louise ,\\n i have...         68   \n",
       "14980       0  Subject: confidential folder to safely pass in...        307   \n",
       "\n",
       "       num_sentences  num_characters  \\\n",
       "0                 12            1111   \n",
       "1                  5             753   \n",
       "2                  4             610   \n",
       "3                 35            2863   \n",
       "4                  4             641   \n",
       "...              ...             ...   \n",
       "14976              2             154   \n",
       "14977             35            7864   \n",
       "14978              7            1343   \n",
       "14979              5             279   \n",
       "14980             12            1654   \n",
       "\n",
       "                                            text_cleaned  num_httpaddr  \\\n",
       "0      save number life insurance spend to lif quot s...             0   \n",
       "1      number fight risk cancer httpaddr slim guarant...             7   \n",
       "2      number fight risk cancer httpaddr slim guarant...             6   \n",
       "3      adult club offer free membership instant acces...             6   \n",
       "4      thought might like these number slim guarante ...             5   \n",
       "...                                                  ...           ...   \n",
       "14976  louis half hour free diari number number see w...             0   \n",
       "14977  stephani believ found trade first one alreadi ...             0   \n",
       "14978  need establish deadlin friday march number th ...             0   \n",
       "14979  hi louis comparison first two week q number st...             0   \n",
       "14980  becom increas concern confidenti inform dpr po...             0   \n",
       "\n",
       "       num_emailaddr  num_number  num_dollar  num_punct  \n",
       "0                  0           3           1         24  \n",
       "1                  2           3           0        100  \n",
       "2                  0           3           0         81  \n",
       "3                  1          15           1        448  \n",
       "4                  2           4           0         75  \n",
       "...              ...         ...         ...        ...  \n",
       "14976              0           2           0          6  \n",
       "14977              0         249           5        585  \n",
       "14978              0          11           0        127  \n",
       "14979              0           2           0         11  \n",
       "14980              0           0           0         43  \n",
       "\n",
       "[14980 rows x 11 columns]"
      ]
     },
     "execution_count": 24,
     "metadata": {},
     "output_type": "execute_result"
    }
   ],
   "source": [
    "df_email"
   ]
  },
  {
   "cell_type": "markdown",
   "id": "4fa00a8c",
   "metadata": {},
   "source": [
    "## Machine Learning Modelling"
   ]
  },
  {
   "cell_type": "code",
   "execution_count": 25,
   "id": "ae272423",
   "metadata": {},
   "outputs": [
    {
     "data": {
      "text/plain": [
       "Index(['target', 'text', 'num_words', 'num_sentences', 'num_characters',\n",
       "       'text_cleaned', 'num_httpaddr', 'num_emailaddr', 'num_number',\n",
       "       'num_dollar', 'num_punct'],\n",
       "      dtype='object')"
      ]
     },
     "execution_count": 25,
     "metadata": {},
     "output_type": "execute_result"
    }
   ],
   "source": [
    "df_email.columns"
   ]
  },
  {
   "cell_type": "code",
   "execution_count": 26,
   "id": "24aa9aea",
   "metadata": {},
   "outputs": [],
   "source": [
    "X_train = df_email[['text_cleaned', 'num_httpaddr', 'num_emailaddr', 'num_dollar', 'num_punct']]\n",
    "y_train = df_email['target'].to_numpy()"
   ]
  },
  {
   "cell_type": "code",
   "execution_count": 27,
   "id": "ab8ae35f",
   "metadata": {},
   "outputs": [],
   "source": [
    "from sklearn.pipeline import Pipeline\n",
    "from sklearn.compose import ColumnTransformer\n",
    "from sklearn.feature_extraction.text import TfidfVectorizer\n",
    "from sklearn.preprocessing import FunctionTransformer\n",
    "\n",
    "tfidf_vectorizer = TfidfVectorizer(max_features=1000)"
   ]
  },
  {
   "cell_type": "code",
   "execution_count": 28,
   "id": "b8ff026e",
   "metadata": {},
   "outputs": [],
   "source": [
    "vectorizer = TfidfVectorizer()\n",
    "col_transformer = ColumnTransformer([('vct', vectorizer, 'text_cleaned')], remainder='passthrough')\n",
    "\n",
    "X_train_transformed = col_transformer.fit_transform(X_train)"
   ]
  },
  {
   "cell_type": "code",
   "execution_count": 29,
   "id": "7be6cf20",
   "metadata": {},
   "outputs": [
    {
     "data": {
      "text/plain": [
       "array([[  0.,   0.,   0., ...,   0.,   1.,  24.],\n",
       "       [  0.,   0.,   0., ...,   2.,   0., 100.],\n",
       "       [  0.,   0.,   0., ...,   0.,   0.,  81.],\n",
       "       ...,\n",
       "       [  0.,   0.,   0., ...,   0.,   0., 127.],\n",
       "       [  0.,   0.,   0., ...,   0.,   0.,  11.],\n",
       "       [  0.,   0.,   0., ...,   0.,   0.,  43.]])"
      ]
     },
     "execution_count": 29,
     "metadata": {},
     "output_type": "execute_result"
    }
   ],
   "source": [
    "X_train = X_train_transformed.toarray()\n",
    "X_train"
   ]
  },
  {
   "cell_type": "code",
   "execution_count": 30,
   "id": "df5f70b8",
   "metadata": {},
   "outputs": [
    {
     "data": {
      "text/plain": [
       "(14980, 102351)"
      ]
     },
     "execution_count": 30,
     "metadata": {},
     "output_type": "execute_result"
    }
   ],
   "source": [
    "X_train.shape"
   ]
  },
  {
   "cell_type": "code",
   "execution_count": 31,
   "id": "f1690360",
   "metadata": {
    "scrolled": true
   },
   "outputs": [
    {
     "data": {
      "text/plain": [
       "array([1, 1, 1, ..., 0, 0, 0])"
      ]
     },
     "execution_count": 31,
     "metadata": {},
     "output_type": "execute_result"
    }
   ],
   "source": [
    "y_train"
   ]
  },
  {
   "cell_type": "code",
   "execution_count": 32,
   "id": "13e2feff",
   "metadata": {},
   "outputs": [
    {
     "data": {
      "text/plain": [
       "(14980,)"
      ]
     },
     "execution_count": 32,
     "metadata": {},
     "output_type": "execute_result"
    }
   ],
   "source": [
    "y_train.shape"
   ]
  },
  {
   "cell_type": "markdown",
   "id": "a84e06c5",
   "metadata": {},
   "source": [
    "## Classifier Evaluation"
   ]
  },
  {
   "cell_type": "code",
   "execution_count": 33,
   "id": "a7b6136c",
   "metadata": {},
   "outputs": [],
   "source": [
    "from sklearn.metrics import confusion_matrix\n",
    "from sklearn.metrics import accuracy_score, precision_score, recall_score, f1_score\n",
    "\n",
    "def eval_confusion(y_pred, y_true=y_train):\n",
    "    conf_matrix = confusion_matrix(y_true, y_pred)\n",
    "    accuracy = accuracy_score(y_train, y_pred)\n",
    "    precision = precision_score(y_true, y_pred)\n",
    "    recall = recall_score(y_true, y_pred)\n",
    "    f1 = f1_score(y_true, y_pred)\n",
    "    return {'matrix': conf_matrix, 'precision': precision, 'recall': recall, 'f1': f1}"
   ]
  },
  {
   "cell_type": "code",
   "execution_count": 34,
   "id": "4703a8f4",
   "metadata": {},
   "outputs": [],
   "source": [
    "from sklearn.naive_bayes import MultinomialNB\n",
    "from sklearn.svm import SVC\n",
    "from sklearn.ensemble import RandomForestClassifier\n",
    "from xgboost import XGBClassifier\n",
    "from sklearn.linear_model import LogisticRegression\n",
    "from sklearn.neighbors import KNeighborsClassifier\n",
    "\n",
    "classifiers = {\n",
    "    'MultinomialNB': MultinomialNB(),\n",
    "    'SVM': SVC(),\n",
    "    'RandomForest': RandomForestClassifier(),\n",
    "    'XGBoost': XGBClassifier(),\n",
    "    'KNN': KNeighborsClassifier()\n",
    "}"
   ]
  },
  {
   "cell_type": "code",
   "execution_count": 35,
   "id": "e18aa54e",
   "metadata": {},
   "outputs": [],
   "source": [
    "from sklearn.model_selection import cross_val_predict, StratifiedKFold\n",
    "\n",
    "y_preds = {}\n",
    "for clf_name, clf in classifiers.items():\n",
    "    y_preds[clf_name] = cross_val_predict(clf, X_train_transformed, y_train, cv=3)"
   ]
  },
  {
   "cell_type": "markdown",
   "id": "2d4ca31a",
   "metadata": {},
   "source": [
    "Stratified kfold cross validation was employed."
   ]
  },
  {
   "cell_type": "code",
   "execution_count": 36,
   "id": "b5c1e142",
   "metadata": {},
   "outputs": [
    {
     "name": "stdout",
     "output_type": "stream",
     "text": [
      "MultinomialNB:\n",
      "  Accuracy: 0.8122\n",
      "  Precision: 0.9798\n",
      "  Recall: 0.5531\n",
      "  F1 Score: 0.7071\n",
      "\n",
      "\n",
      "SVM:\n",
      "  Accuracy: 0.5937\n",
      "  Precision: 0.6940\n",
      "  Recall: 0.0152\n",
      "  F1 Score: 0.0297\n",
      "\n",
      "\n",
      "RandomForest:\n",
      "  Accuracy: 0.9697\n",
      "  Precision: 0.9705\n",
      "  Recall: 0.9550\n",
      "  F1 Score: 0.9627\n",
      "\n",
      "\n",
      "XGBoost:\n",
      "  Accuracy: 0.9666\n",
      "  Precision: 0.9482\n",
      "  Recall: 0.9715\n",
      "  F1 Score: 0.9597\n",
      "\n",
      "\n",
      "KNN:\n",
      "  Accuracy: 0.7878\n",
      "  Precision: 0.7682\n",
      "  Recall: 0.6905\n",
      "  F1 Score: 0.7272\n",
      "\n",
      "\n"
     ]
    }
   ],
   "source": [
    "stratified_kfold = StratifiedKFold(n_splits=5, shuffle=True, random_state=42)\n",
    "np.random.seed(42)\n",
    "\n",
    "y_preds = {}\n",
    "for clf_name, clf in classifiers.items():\n",
    "    y_preds[clf_name] = cross_val_predict(clf, X_train_transformed, y_train, cv=stratified_kfold)\n",
    "\n",
    "for clf_name, y_pred in y_preds.items():\n",
    "    accuracy = accuracy_score(y_train, y_pred)\n",
    "    precision = precision_score(y_train, y_pred)\n",
    "    recall = recall_score(y_train, y_pred)\n",
    "    f1 = f1_score(y_train, y_pred)\n",
    "\n",
    "    print(f\"{clf_name}:\")\n",
    "    print(f\"  Accuracy: {accuracy:.4f}\")\n",
    "    print(f\"  Precision: {precision:.4f}\")\n",
    "    print(f\"  Recall: {recall:.4f}\")\n",
    "    print(f\"  F1 Score: {f1:.4f}\")\n",
    "    print(\"\\n\")"
   ]
  },
  {
   "cell_type": "markdown",
   "id": "db5ecb4a",
   "metadata": {},
   "source": [
    "The reported results suggest that the **Random Forest (RF) classifier** performed very well on the training dataset based on the cross-validation evaluation. \n",
    "\n",
    "* **Accuracy:** It achieved an accuracy of 96.97%, meaning that approximately 96.97% of the instances in the dataset were correctly classified by the model.\n",
    "\n",
    "* **Precision**: A precision of 97.05% indicates that when the RF classifier predicts a positive class, it is correct about 97.05% of the time.\n",
    "\n",
    "* **Recall:** Suggests that the model identified approximately 95.50% of all actual positive instances.\n",
    "\n",
    "* **F1 Score:** The value of 0.9627 implies a good balance between precision and recall. This is a useful metric when there is an uneven class distribution."
   ]
  },
  {
   "cell_type": "markdown",
   "id": "1c656cb5",
   "metadata": {},
   "source": [
    "## Best Model"
   ]
  },
  {
   "cell_type": "code",
   "execution_count": 37,
   "id": "c01d4db3",
   "metadata": {
    "scrolled": false
   },
   "outputs": [
    {
     "data": {
      "text/plain": [
       "RandomForestClassifier()"
      ]
     },
     "execution_count": 37,
     "metadata": {},
     "output_type": "execute_result"
    }
   ],
   "source": [
    "best_model = RandomForestClassifier()\n",
    "best_model.fit(X_train_transformed, y_train)"
   ]
  },
  {
   "cell_type": "markdown",
   "id": "ff5ed859",
   "metadata": {},
   "source": [
    "#### Saving model as `pickle`"
   ]
  },
  {
   "cell_type": "code",
   "execution_count": 38,
   "id": "55cd2bc0",
   "metadata": {},
   "outputs": [],
   "source": [
    "import pickle\n",
    "\n",
    "model_filename = 'best_model.pkl'\n",
    "\n",
    "with open(model_filename, 'wb') as model_file:\n",
    "    pickle.dump(best_model, model_file)"
   ]
  },
  {
   "cell_type": "markdown",
   "id": "703acf9a",
   "metadata": {},
   "source": [
    "Download model file here: https://drive.google.com/file/d/1dsB_QNZoJZgCIJwsTSYk0KiyqcRaAgKB/view?usp=sharing"
   ]
  },
  {
   "cell_type": "markdown",
   "id": "aafbe276",
   "metadata": {},
   "source": [
    "#### Loading `pickle` file "
   ]
  },
  {
   "cell_type": "code",
   "execution_count": 39,
   "id": "455c933c",
   "metadata": {},
   "outputs": [],
   "source": [
    "with open(model_filename, 'rb') as model_file:\n",
    "    loaded_model = pickle.load(model_file)"
   ]
  },
  {
   "cell_type": "markdown",
   "id": "fc74cbd1",
   "metadata": {},
   "source": [
    "#### Sample test data\n",
    "\n",
    "Make sure to change `sample_test.csv` to actual csv containing test data form email spams.\n",
    "\n",
    "Also, the codes below are in Raw NBConvert. Convert it to codes for it be run."
   ]
  },
  {
   "cell_type": "raw",
   "id": "6e2c26b8",
   "metadata": {},
   "source": [
    "df_test = pd.read_csv('sample_test.csv')"
   ]
  },
  {
   "cell_type": "raw",
   "id": "75518fba",
   "metadata": {},
   "source": [
    "df_test = df_test[['Label', 'Body']]\n",
    "df_test.columns = ['target', 'text']\n",
    "df_test = df_test.dropna()"
   ]
  },
  {
   "cell_type": "raw",
   "id": "872e51bc",
   "metadata": {},
   "source": [
    "df_test['text_cleaned'] = df_test['text'].apply(clean_email_body)\n",
    "df_test['num_httpaddr'] = df_test['text_cleaned'].apply(lambda x: count_pattern_occurrences(x, 'httpaddr'))\n",
    "df_test['num_emailaddr'] = df_test['text_cleaned'].apply(lambda x: count_pattern_occurrences(x, 'emailaddr'))\n",
    "df_test['num_dollar'] = df_test['text_cleaned'].apply(lambda x: count_pattern_occurrences(x, 'dollar'))\n",
    "df_test['num_punct'] = df_test['text'].apply(count_punct)"
   ]
  },
  {
   "cell_type": "raw",
   "id": "f50750ca",
   "metadata": {},
   "source": [
    "X_test = df_test[['text_cleaned', 'num_httpaddr', 'num_emailaddr', 'num_dollar', 'num_punct']]\n",
    "y_test = df_test['target'].to_numpy()\n",
    "\n",
    "X_test_transformed = col_transformer.fit_transform(X_test)"
   ]
  },
  {
   "cell_type": "raw",
   "id": "412cca89",
   "metadata": {},
   "source": [
    "y_test_pred = loaded_model.predict(X_test_transformed)\n",
    "\n",
    "accuracy_test = accuracy_score(y_test, y_test_pred)\n",
    "precision_test = precision_score(y_test, y_test_pred)\n",
    "recall_test = recall_score(y_test, y_test_pred)\n",
    "f1_test = f1_score(y_test, y_test_pred)\n",
    "\n",
    "print(f\"Test Accuracy: {accuracy_test:.4f}\")\n",
    "print(f\"Test Precision: {precision_test:.4f}\")\n",
    "print(f\"Test Recall: {recall_test:.4f}\")\n",
    "print(f\"Test F1 Score: {f1_test:.4f}\")"
   ]
  }
 ],
 "metadata": {
  "kernelspec": {
   "display_name": "Python 3 (ipykernel)",
   "language": "python",
   "name": "python3"
  },
  "language_info": {
   "codemirror_mode": {
    "name": "ipython",
    "version": 3
   },
   "file_extension": ".py",
   "mimetype": "text/x-python",
   "name": "python",
   "nbconvert_exporter": "python",
   "pygments_lexer": "ipython3",
   "version": "3.9.13"
  }
 },
 "nbformat": 4,
 "nbformat_minor": 5
}
